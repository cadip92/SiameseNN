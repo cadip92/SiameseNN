{
 "cells": [
  {
   "cell_type": "code",
   "execution_count": 2,
   "metadata": {},
   "outputs": [
    {
     "name": "stderr",
     "output_type": "stream",
     "text": [
      "C:\\Anaconda\\lib\\site-packages\\tensorflow\\python\\framework\\dtypes.py:516: FutureWarning: Passing (type, 1) or '1type' as a synonym of type is deprecated; in a future version of numpy, it will be understood as (type, (1,)) / '(1,)type'.\n",
      "  _np_qint8 = np.dtype([(\"qint8\", np.int8, 1)])\n",
      "C:\\Anaconda\\lib\\site-packages\\tensorflow\\python\\framework\\dtypes.py:517: FutureWarning: Passing (type, 1) or '1type' as a synonym of type is deprecated; in a future version of numpy, it will be understood as (type, (1,)) / '(1,)type'.\n",
      "  _np_quint8 = np.dtype([(\"quint8\", np.uint8, 1)])\n",
      "C:\\Anaconda\\lib\\site-packages\\tensorflow\\python\\framework\\dtypes.py:518: FutureWarning: Passing (type, 1) or '1type' as a synonym of type is deprecated; in a future version of numpy, it will be understood as (type, (1,)) / '(1,)type'.\n",
      "  _np_qint16 = np.dtype([(\"qint16\", np.int16, 1)])\n",
      "C:\\Anaconda\\lib\\site-packages\\tensorflow\\python\\framework\\dtypes.py:519: FutureWarning: Passing (type, 1) or '1type' as a synonym of type is deprecated; in a future version of numpy, it will be understood as (type, (1,)) / '(1,)type'.\n",
      "  _np_quint16 = np.dtype([(\"quint16\", np.uint16, 1)])\n",
      "C:\\Anaconda\\lib\\site-packages\\tensorflow\\python\\framework\\dtypes.py:520: FutureWarning: Passing (type, 1) or '1type' as a synonym of type is deprecated; in a future version of numpy, it will be understood as (type, (1,)) / '(1,)type'.\n",
      "  _np_qint32 = np.dtype([(\"qint32\", np.int32, 1)])\n",
      "C:\\Anaconda\\lib\\site-packages\\tensorflow\\python\\framework\\dtypes.py:525: FutureWarning: Passing (type, 1) or '1type' as a synonym of type is deprecated; in a future version of numpy, it will be understood as (type, (1,)) / '(1,)type'.\n",
      "  np_resource = np.dtype([(\"resource\", np.ubyte, 1)])\n",
      "C:\\Anaconda\\lib\\site-packages\\tensorboard\\compat\\tensorflow_stub\\dtypes.py:541: FutureWarning: Passing (type, 1) or '1type' as a synonym of type is deprecated; in a future version of numpy, it will be understood as (type, (1,)) / '(1,)type'.\n",
      "  _np_qint8 = np.dtype([(\"qint8\", np.int8, 1)])\n",
      "C:\\Anaconda\\lib\\site-packages\\tensorboard\\compat\\tensorflow_stub\\dtypes.py:542: FutureWarning: Passing (type, 1) or '1type' as a synonym of type is deprecated; in a future version of numpy, it will be understood as (type, (1,)) / '(1,)type'.\n",
      "  _np_quint8 = np.dtype([(\"quint8\", np.uint8, 1)])\n",
      "C:\\Anaconda\\lib\\site-packages\\tensorboard\\compat\\tensorflow_stub\\dtypes.py:543: FutureWarning: Passing (type, 1) or '1type' as a synonym of type is deprecated; in a future version of numpy, it will be understood as (type, (1,)) / '(1,)type'.\n",
      "  _np_qint16 = np.dtype([(\"qint16\", np.int16, 1)])\n",
      "C:\\Anaconda\\lib\\site-packages\\tensorboard\\compat\\tensorflow_stub\\dtypes.py:544: FutureWarning: Passing (type, 1) or '1type' as a synonym of type is deprecated; in a future version of numpy, it will be understood as (type, (1,)) / '(1,)type'.\n",
      "  _np_quint16 = np.dtype([(\"quint16\", np.uint16, 1)])\n",
      "C:\\Anaconda\\lib\\site-packages\\tensorboard\\compat\\tensorflow_stub\\dtypes.py:545: FutureWarning: Passing (type, 1) or '1type' as a synonym of type is deprecated; in a future version of numpy, it will be understood as (type, (1,)) / '(1,)type'.\n",
      "  _np_qint32 = np.dtype([(\"qint32\", np.int32, 1)])\n",
      "C:\\Anaconda\\lib\\site-packages\\tensorboard\\compat\\tensorflow_stub\\dtypes.py:550: FutureWarning: Passing (type, 1) or '1type' as a synonym of type is deprecated; in a future version of numpy, it will be understood as (type, (1,)) / '(1,)type'.\n",
      "  np_resource = np.dtype([(\"resource\", np.ubyte, 1)])\n",
      "Using TensorFlow backend.\n"
     ]
    }
   ],
   "source": [
    "import tensorflow as tf\n",
    "import numpy as np\n",
    "import keras as k\n",
    "import PIL\n",
    "import os\n",
    "import matplotlib.pyplot as plt\n",
    "\n",
    "from PIL import Image\n",
    "from numpy import asarray\n",
    "from keras.layers import Input, Dense, Conv2D, ReLU, MaxPool2D, Flatten, Activation, Lambda\n",
    "from keras.models import Sequential, Model\n",
    "from keras.optimizers import Adam, SGD\n",
    "from keras.regularizers import l2"
   ]
  },
  {
   "cell_type": "code",
   "execution_count": 3,
   "metadata": {},
   "outputs": [
    {
     "name": "stdout",
     "output_type": "stream",
     "text": [
      "C:\\Users\\Adwait Chandorkar\\Machine Learning Projects\\SiameseNN\n",
      "C:\\Users\\Adwait Chandorkar\\Machine Learning Projects\\SiameseNN\\Positive\n"
     ]
    }
   ],
   "source": [
    "cwd = os.getcwd()\n",
    "print(cwd)\n",
    "pos_path = os.path.join(cwd,'Positive') # Creates path to Positive Images Directory\n",
    "neg_path = os.path.join(cwd,'Negative') # Creates path to Negative Images Directory\n",
    "print(pos_path)\n",
    "\n",
    "pos_img_list = []\n",
    "neg_img_list = []\n",
    "pair_list = []\n",
    "labels = []\n",
    "\n",
    "inp_dim = (105,105,3)\n",
    "inp_x = Input(inp_dim)\n",
    "inp_y = Input(inp_dim)"
   ]
  },
  {
   "cell_type": "code",
   "execution_count": 4,
   "metadata": {},
   "outputs": [],
   "source": [
    "def gen_pairs():\n",
    "    #Generate a list of negative samples\n",
    "    for filename in os.listdir(neg_path):\n",
    "        path = os.path.join(neg_path,filename)\n",
    "\n",
    "        image = Image.open(path)\n",
    "        image = image.resize((105,105), resample=0).convert(mode='RGB')\n",
    "\n",
    "        data = asarray(image)\n",
    "        data = data / 255\n",
    "\n",
    "        neg_img_list.append(data)\n",
    "\n",
    "    #Generate a list of positive samples\n",
    "    for filename in os.listdir(pos_path):\n",
    "        path = os.path.join(pos_path,filename)\n",
    "\n",
    "        image = Image.open(path)\n",
    "        image = image.resize((105,105), resample=0).convert(mode='RGB')\n",
    "\n",
    "        data = asarray(image)\n",
    "        data = data / 255\n",
    "\n",
    "        pos_img_list.append(data)\n",
    "\n",
    "    #Create pairs\n",
    "    for j in range(0,len(pos_img_list)):\n",
    "        for i in range(j+1,len(pos_img_list)) :\n",
    "            pair_list.append([pos_img_list[j],pos_img_list[i]])\n",
    "            labels.append(1)                                         # Label for a pair of 2 positive images is 1\n",
    "        for k in range(0,len(neg_img_list)) :\n",
    "            pair_list.append([pos_img_list[j],neg_img_list[k]])\n",
    "            labels.append(0)                                         # Label for a pair of 1 positive and 1 negative image is 0\n",
    "\n",
    "    pair_array = np.array(pair_list)\n",
    "    labels_array = np.array(labels)\n",
    "\n",
    "    return pair_array, labels_array"
   ]
  },
  {
   "cell_type": "code",
   "execution_count": 5,
   "metadata": {},
   "outputs": [],
   "source": [
    "def gen_model(inp_dim):\n",
    "    model = Sequential()\n",
    "\n",
    "    #Layer 1\n",
    "    model.add(Conv2D(64, (10,10), strides=(1,1), padding=\"valid\", data_format=\"channels_last\", input_shape=inp_dim, kernel_regularizer=l2(2e-4)))\n",
    "    model.add(Activation('relu'))  \n",
    "    #Layer 2\n",
    "    model.add(MaxPool2D(pool_size=(2,2), strides=None, padding='valid'))\n",
    "    #Layer 3\n",
    "    model.add(Conv2D(128, (7,7), strides=(1,1), padding=\"valid\", kernel_regularizer=l2(1e-3)))\n",
    "    model.add(Activation('relu'))\n",
    "    #Layer 4\n",
    "    model.add(MaxPool2D(pool_size=(2,2), strides=None, padding='valid'))\n",
    "    #Layer 5\n",
    "    model.add(Conv2D(128, (4,4), strides=(1,1), padding=\"valid\", kernel_regularizer=l2(2e-3)))\n",
    "    model.add(Activation('relu'))\n",
    "    #Layer 6\n",
    "    model.add(MaxPool2D(pool_size=(2,2), strides=None, padding='valid'))\n",
    "    #Layer 7\n",
    "    model.add(Conv2D(256, (4,4), strides=(1,1), padding=\"valid\", kernel_regularizer=l2(2e-3)))\n",
    "    model.add(Activation('relu'))\n",
    "    #Layer 8\n",
    "    model.add(Flatten())\n",
    "    model.add(Dense(4096, activation='sigmoid'))\n",
    "    \n",
    "    return model"
   ]
  },
  {
   "cell_type": "code",
   "execution_count": 6,
   "metadata": {},
   "outputs": [
    {
     "name": "stdout",
     "output_type": "stream",
     "text": [
      "(3978, 2, 105, 105, 3)\n"
     ]
    }
   ],
   "source": [
    "#Create pairs to feed the model\n",
    "pairs, l = gen_pairs() # l = Label of pairs\n",
    "\n",
    "print(pairs.shape)\n",
    "x = pairs[:,0] # Array of first image\n",
    "y = pairs[:,1] # Array of second image"
   ]
  },
  {
   "cell_type": "code",
   "execution_count": 7,
   "metadata": {},
   "outputs": [
    {
     "name": "stdout",
     "output_type": "stream",
     "text": [
      "WARNING:tensorflow:From C:\\Anaconda\\lib\\site-packages\\keras\\backend\\tensorflow_backend.py:4070: The name tf.nn.max_pool is deprecated. Please use tf.nn.max_pool2d instead.\n",
      "\n",
      "WARNING:tensorflow:From C:\\Anaconda\\lib\\site-packages\\tensorflow\\python\\ops\\nn_impl.py:180: add_dispatch_support.<locals>.wrapper (from tensorflow.python.ops.array_ops) is deprecated and will be removed in a future version.\n",
      "Instructions for updating:\n",
      "Use tf.where in 2.0, which has the same broadcast rule as np.where\n"
     ]
    }
   ],
   "source": [
    "base_model = gen_model(inp_dim)\n",
    "\n",
    "f_x = base_model(inp_x)\n",
    "f_y = base_model(inp_y)\n",
    "\n",
    "#Calculate Similarity score\n",
    "l1 = Lambda(lambda tensors:k.backend.abs(tensors[0] - tensors[1]))\n",
    "z = l1([f_x, f_y])\n",
    "sim_score = Dense(1, activation='sigmoid')(z)\n",
    "\n",
    "model = Model(inputs=[inp_x,inp_y], outputs=sim_score)\n",
    "\n",
    "adam = Adam(lr=0.0001)\n",
    "sgd = SGD(lr=0.0001, momentum=0.75)\n",
    "model.compile(optimizer=adam,loss='binary_crossentropy',metrics=['accuracy']) # Can choose either of the optimizer Adam or SGD"
   ]
  },
  {
   "cell_type": "code",
   "execution_count": null,
   "metadata": {
    "pycharm": {
     "is_executing": true
    }
   },
   "outputs": [
    {
     "name": "stdout",
     "output_type": "stream",
     "text": [
      "Train on 2784 samples, validate on 1194 samples\n",
      "Epoch 1/10\n"
     ]
    }
   ],
   "source": [
    "model.fit([x,y], l, batch_size=20, epochs=10, validation_split=0.3) # Batch size lowered to avoid OOM error for GPU"
   ]
  },
  {
   "cell_type": "code",
   "execution_count": null,
   "metadata": {},
   "outputs": [],
   "source": [
    "# Test the model to calculate similarity score between 2 images\n",
    "\n",
    "img_1 = []\n",
    "img_2 = []\n",
    "\n",
    "#Load Image 1\n",
    "path_1 = os.path.join(pos_path,'19.jpg')\n",
    "print(path_1)\n",
    "\n",
    "image_1 = Image.open(path_1)\n",
    "image_1 = image_1.resize((105,105), resample=0).convert(mode='RGB')\n",
    "\n",
    "data_1 = asarray(image_1)\n",
    "data_1 = data_1 / 255\n",
    "\n",
    "img_1.append(data_1)\n",
    "img_1_arr = np.array(img_1)\n",
    "\n",
    "plt.imshow(image_1)\n",
    "plt.pause(.5)\n",
    "plt.draw()\n",
    "        \n",
    "#Load Image 2    \n",
    "path_2 = os.path.join(neg_path,'31.jpg')\n",
    "print(path_2)\n",
    "\n",
    "image_2 = Image.open(path_2)\n",
    "image_2 = image_2.resize((105,105), resample=0).convert(mode='RGB')\n",
    "\n",
    "data_2 = asarray(image_2)\n",
    "data_2 = data_2 / 255\n",
    "\n",
    "img_2.append(data_2)\n",
    "img_2_arr = np.array(img_2)\n",
    "\n",
    "plt.imshow(image_2)\n",
    "\n",
    "rslt = model.predict([img_1_arr,img_2_arr])\n",
    "print(\"Sim Score = \", rslt)\n"
   ]
  }
 ],
 "metadata": {
  "kernelspec": {
   "display_name": "tf1gpu",
   "language": "python",
   "name": "tf1-gpu"
  },
  "language_info": {
   "codemirror_mode": {
    "name": "ipython",
    "version": 3
   },
   "file_extension": ".py",
   "mimetype": "text/x-python",
   "name": "python",
   "nbconvert_exporter": "python",
   "pygments_lexer": "ipython3",
   "version": "3.7.6"
  }
 },
 "nbformat": 4,
 "nbformat_minor": 2
}
